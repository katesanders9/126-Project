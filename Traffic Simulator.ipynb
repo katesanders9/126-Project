{
 "cells": [
  {
   "cell_type": "markdown",
   "metadata": {},
   "source": [
    "# 126 Project Traffic Simulator"
   ]
  },
  {
   "cell_type": "markdown",
   "metadata": {},
   "source": [
    "Let the road be length $n$. Cars start at position 0 and reach their destination at position $n-1$. Each car has an exponential \"clock\" with parameter $\\gamma$, and every time their clock goes off they move forward with probability $p$. If a car is directly in front of them, they do not move regardless. A car enters the road at position 0 at a rate of $Exp(\\alpha)$ and exit the road at position $n-1$ with a rate of $Exp(\\beta)$."
   ]
  },
  {
   "cell_type": "markdown",
   "metadata": {},
   "source": [
    "### Set global variables:"
   ]
  },
  {
   "cell_type": "code",
   "execution_count": null,
   "metadata": {},
   "outputs": [],
   "source": [
    "n = 6  # length of path\n",
    "alpha = .4  # exponential param for car entrance\n",
    "beta = .8  # exponential param for car exit\n",
    "gamma = .8  # exponential param for car movement\n",
    "p = .7  # bernoulli param for car moving / stopped\n",
    "\n",
    "seed = 454"
   ]
  },
  {
   "cell_type": "markdown",
   "metadata": {},
   "source": [
    "### Define particle and environment classes:"
   ]
  },
  {
   "cell_type": "code",
   "execution_count": null,
   "metadata": {},
   "outputs": [],
   "source": [
    "import time\n",
    "import sys\n",
    "import numpy as np\n",
    "\n",
    "class Particle:\n",
    "    def __init__(self, gamma=gamma, p=p):\n",
    "        self.gamma = gamma\n",
    "        self.p = p\n",
    "        self._position = 0\n",
    "        \n",
    "    def update_position(self, value=1):\n",
    "        self._position += value\n",
    "        \n",
    "    def get_position(self):\n",
    "        return self._position\n",
    "        \n",
    "class Environment:\n",
    "    def __init__(self, n=n, alpha=alpha, beta=beta):\n",
    "        self.n = n\n",
    "        self.alpha = alpha\n",
    "        self.beta = beta\n",
    "        self.particles = []\n",
    "        self.occupied_positions = [0 for _ in range(n)]\n",
    "        \n",
    "    def run_simulation(self, time_len=60):\n",
    "        sys.stdout.write(\"\\r{}\".format(self.occupied_positions))\n",
    "        sys.stdout.flush()\n",
    "        \n",
    "        curr_time = 0\n",
    "        time_lapse = np.random.exponential(scale=1/alpha)\n",
    "        time.sleep(time_lapse)\n",
    "        curr_time += time_lapse\n",
    "        particle = Particle()\n",
    "        self.particles.append(particle)\n",
    "        self.occupied_positions[0] = 1\n",
    "        \n",
    "        while curr_time < time_len:\n",
    "            sys.stdout.write(\"\\r{}\".format(self.occupied_positions))\n",
    "            sys.stdout.flush()\n",
    "            merged_param = sum([particle.gamma * particle.p for particle in self.particles]) + self.alpha + self.beta\n",
    "            time_lapse = np.random.exponential(scale=1/merged_param)\n",
    "            probabilities = np.array([particle.gamma * particle.p for particle in self.particles] + [self.alpha, self.beta]) / merged_param\n",
    "            particle = np.random.choice(self.particles + ['entrance', 'exit'], p=probabilities)\n",
    "            time.sleep(time_lapse)\n",
    "            curr_time += time_lapse\n",
    "            if particle == 'entrance':\n",
    "                if self.occupied_positions[0]:\n",
    "                    continue\n",
    "                else:\n",
    "                    new_particle = Particle()\n",
    "                    self.particles.append(new_particle)\n",
    "                    self.occupied_positions[0] = 1\n",
    "            elif particle == 'exit':\n",
    "                if self.occupied_positions[n-1]:\n",
    "                    self.particles.pop(0)\n",
    "                    self.occupied_positions[n-1] = 0\n",
    "                else:\n",
    "                    continue\n",
    "            else:\n",
    "                particle_pos = particle.get_position()\n",
    "                if particle_pos == n - 1 or self.occupied_positions[particle_pos + 1] == 1:\n",
    "                    continue\n",
    "                else:\n",
    "                    self.occupied_positions[particle_pos] = 0\n",
    "                    self.occupied_positions[particle_pos + 1] = 1\n",
    "                    particle.update_position()\n",
    "        print('\\n done')"
   ]
  },
  {
   "cell_type": "markdown",
   "metadata": {},
   "source": [
    "### Run simulator:"
   ]
  },
  {
   "cell_type": "code",
   "execution_count": null,
   "metadata": {},
   "outputs": [],
   "source": [
    "env = Environment()\n",
    "env.run_simulation()"
   ]
  }
 ],
 "metadata": {
  "kernelspec": {
   "display_name": "Python 3",
   "language": "python",
   "name": "python3"
  },
  "language_info": {
   "codemirror_mode": {
    "name": "ipython",
    "version": 3
   },
   "file_extension": ".py",
   "mimetype": "text/x-python",
   "name": "python",
   "nbconvert_exporter": "python",
   "pygments_lexer": "ipython3",
   "version": "3.6.7"
  }
 },
 "nbformat": 4,
 "nbformat_minor": 2
}
